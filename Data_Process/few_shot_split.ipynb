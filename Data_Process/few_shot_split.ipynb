{
 "cells": [
  {
   "cell_type": "code",
   "execution_count": null,
   "id": "64281bf6-539d-4c93-b4c2-2e7250cf63e3",
   "metadata": {},
   "outputs": [],
   "source": [
    "import scanpy as sc\n",
    "import pandas as pd\n",
    "import numpy as np\n",
    "\n",
    "def sample_celltype_with_oversampling(adata, celltype_key, n_samples, seed):\n",
    "    \"\"\"\n",
    "    Sample cells with oversampling for balanced representation across cell types\n",
    "    \"\"\"\n",
    "    np.random.seed(seed)\n",
    "    all_indices = []\n",
    "    for celltype in adata.obs[celltype_key].unique():\n",
    "        celltype_indices = adata.obs[adata.obs[celltype_key] == celltype].index\n",
    "        if len(celltype_indices) < n_samples:\n",
    "            # Random Oversampling\n",
    "            oversampled_indices = np.random.choice(celltype_indices, n_samples, replace=True)\n",
    "            all_indices.extend(oversampled_indices)\n",
    "        else:\n",
    "            sampled_indices = np.random.choice(celltype_indices, n_samples, replace=False)\n",
    "            all_indices.extend(sampled_indices)\n",
    "    return adata[all_indices].copy()\n",
    "\n",
    "# Load data\n",
    "adata = sc.read_h5ad(\"reference_adata.h5ad\")\n",
    "\n",
    "# Perform sampling\n",
    "sample_sizes = [5, 10, 50]\n",
    "celltype_key = 'cell_type'  # Adjust based on your actual celltype key\n",
    "\n",
    "for seed in range(10):  # Using seeds 0 to 9\n",
    "    print(f\"\\nUsing seed {seed}:\")\n",
    "    for n in sample_sizes:\n",
    "        sampled_adata = sample_celltype_with_oversampling(adata, celltype_key, n, seed)\n",
    "        \n",
    "        # Save sampled dataset\n",
    "        filename = f\"./few_shot_file/MY/My_Train_data_{n}_seed_{seed}.h5ad\"\n",
    "        sampled_adata.write(filename)\n",
    "        \n",
    "        # Output distribution summary\n",
    "        print(f\"\\nDistribution Summary (n={n}, seed={seed}):\")\n",
    "        print(sampled_adata.obs[celltype_key].value_counts())\n",
    "        print(f\"Total cells: {sampled_adata.n_obs}\")\n",
    "        print(f\"Total genes: {sampled_adata.n_vars}\")\n",
    "        print(f\"obs keys: {list(sampled_adata.obs.keys())}\")\n",
    "        print(f\"var keys: {list(sampled_adata.var.keys())}\")\n",
    "        print(f\"File saved as: {filename}\")\n",
    "\n",
    "# Output original dataset distribution\n",
    "print(\"\\nOriginal Dataset Distribution:\")\n",
    "print(adata.obs[celltype_key].value_counts())\n",
    "print(f\"Total cells: {adata.n_obs}\")\n",
    "print(f\"Total genes: {adata.n_vars}\")\n",
    "print(f\"obs keys: {list(adata.obs.keys())}\")\n",
    "print(f\"var keys: {list(adata.var.keys())}\")"
   ]
  }
 ],
 "metadata": {
  "kernelspec": {
   "display_name": "",
   "name": ""
  },
  "language_info": {
   "name": ""
  }
 },
 "nbformat": 4,
 "nbformat_minor": 5
}
